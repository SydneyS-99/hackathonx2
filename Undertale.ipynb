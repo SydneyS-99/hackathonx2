{
  "cells": [
    {
      "cell_type": "markdown",
      "metadata": {
        "id": "view-in-github",
        "colab_type": "text"
      },
      "source": [
        "<a href=\"https://colab.research.google.com/github/SydneyS-99/hackathonx2/blob/main/Undertale.ipynb\" target=\"_parent\"><img src=\"https://colab.research.google.com/assets/colab-badge.svg\" alt=\"Open In Colab\"/></a>"
      ]
    },
    {
      "cell_type": "code",
      "execution_count": null,
      "metadata": {
        "colab": {
          "base_uri": "https://localhost:8080/",
          "height": 106
        },
        "id": "-trLbhcVZ4Cp",
        "outputId": "e0011e70-7f4d-4cf7-c9c1-8deab12c4a27"
      },
      "outputs": [
        {
          "output_type": "error",
          "ename": "SyntaxError",
          "evalue": "invalid syntax. Maybe you meant '==' or ':=' instead of '='? (<ipython-input-4-e7ab6a167b70>, line 74)",
          "traceback": [
            "\u001b[0;36m  File \u001b[0;32m\"<ipython-input-4-e7ab6a167b70>\"\u001b[0;36m, line \u001b[0;32m74\u001b[0m\n\u001b[0;31m    Autoplay= true)\u001b[0m\n\u001b[0m    ^\u001b[0m\n\u001b[0;31mSyntaxError\u001b[0m\u001b[0;31m:\u001b[0m invalid syntax. Maybe you meant '==' or ':=' instead of '='?\n"
          ]
        }
      ],
      "source": [
        "import time\n",
        "print(\"Sans: heya.\")\n",
        "time.sleep(3)\n",
        "import time\n",
        "print(\"Sans: you've been busy,huh?\")\n",
        "time.sleep(3)\n",
        "import time\n",
        "print(\"Sans: ...\" )\n",
        "time.sleep(3)\n",
        "import time\n",
        "print(\"Sans: so, i've got a question for ya.\")\n",
        "time.sleep(3)\n",
        "import time\n",
        "print(\"Sans: do you think even the worst person can change...?\")\n",
        "time.sleep(3)\n",
        "import time\n",
        "print(\"Sans: that everybody can be a good person, if they just try?\")\n",
        "time.sleep(3)\n",
        "import time\n",
        "print(\"Sans: heh heh heh heh...\")\n",
        "time.sleep(3)\n",
        "import time\n",
        "print(\"Sans: all right.\")\n",
        "time.sleep(3)\n",
        "import time\n",
        "print(\"Sans: well, here's a better question.\")\n",
        "time.sleep(3)\n",
        "import time\n",
        "print(\"Sans: do you wanna have a bad time?\")\n",
        "time.sleep(3)\n",
        "import time\n",
        "print(\"Sans: 'cause if you take another step forward...\")\n",
        "time.sleep(3)\n",
        "import time\n",
        "print(\"Sans: you are REALLY not going to like what happens next.\")\n",
        "time.sleep(3)\n",
        "import time\n",
        "print(\"Sans: welp.\")\n",
        "time.sleep(3)\n",
        "import time\n",
        "print(\"Sans: sorry, old buddy.\")\n",
        "time.sleep(3)\n",
        "import time\n",
        "print(\"Sans: this is why i never make promises.\")\n",
        "time.sleep(3)\n",
        "import time\n",
        "print(\"Sans: it's a beautiful day outside.\")\n",
        "time.sleep(3)\n",
        "import time\n",
        "print(\"Sans: birds are singing, flowers are blooming...\")\n",
        "time.sleep(3)\n",
        "import time\n",
        "print(\"Sans: on days like these, kids like you...\")\n",
        "time.sleep(3)\n",
        "import time\n",
        "print(\"Sans: Should be burning in hell\")\n",
        "time.sleep(3)\n",
        "import time\n",
        "print(\"Sans: huh.\")\n",
        "time.sleep(3)\n",
        "import time\n",
        "print(\"Sans: always wondered why people never use their strongest attack first.\")\n",
        "time.sleep(3)\n",
        "#sans attack#1\n",
        "print(\"Sans: ready?\")\n",
        "answer = input ()\n",
        "print(\"here we go.\")\n",
        "answer = input ()\n",
        "from google.colab import files\n",
        "from IPython.display import Audio\n",
        "uploaded = files.upload()\n",
        "\n",
        "sound_file = (\"/content/Undertale-Megalovania-Song-Sound-Effect.mp3\",\n",
        "              Autoplay= true)\n",
        "Audio(sound_file)\n",
        "print(\"Sans: what? you think i'm just gonna stand there and take it? \")\n",
        "#attack#1\n",
        "#attack#2\n",
        "answer = input()\n",
        "print(\"Sans: our reports showed a massive anomaly in the timespace continuum.\")\n",
        "answer = input()\n",
        "print(\"Sans: timelines jumping left and right, stopping and starting...\")\n",
        "answer = input()\n",
        "print(\"Sans: until suddenly, everything ends.\")\n",
        "#attack#3\n",
        "#attack#4\n",
        "answer = input()\n",
        "print(\"heh heh heh...\")\n",
        "answer = input()\n",
        "print(\"that's your fault, isn't it?\")\n",
        "answer = input()\n",
        "print(\"you can't understand how this feels.\")\n",
        "#attack#5\n",
        "#attack#6\n",
        "answer = input()\n",
        "print(\"knowing that one day, without any warning...\")\n",
        "answer = input()\n",
        "print(\"it's all going to be reset.\")\n",
        "answer = input()\n",
        "print(\"look. i gave up trying to go back a long time ago.\")\n",
        "#attack#7\n",
        "answer = input()\n",
        "print(\"and getting to the surface doesn't really appeal anymore, either.\")\n",
        "#attack#8\n",
        "#attack#9\n",
        "answer = input()\n",
        "print(\"cause even if we do...\")\n",
        "answer = input()\n",
        "print(\"we'll just end up right back here, without any memory of it, right?\")\n",
        "#attack #10\n",
        "answer = input()\n",
        "print(\"to be blunt...\")\n",
        "answer = input()\n",
        "print(\"it makes it kind of hard to give it my all.\")\n",
        "#attack#11\n",
        "answer = input()\n",
        "print(\"... or is that just a poor excuse for being lazy...?\")\n",
        "answer = input()\n",
        "print(\"Sans: hell if i know.\")\n",
        "#attack#12\n",
        "answer = input()\n",
        "import time\n",
        "print(\"Sans: all i know is... seeing what comes next...\")\n",
        "time.sleep(3)\n",
        "print(\"Sans: i can't afford not to care anymore.\")\n",
        "answer = input()\n",
        "#attack13\n",
        "import time\n",
        "print(\"Sans: ugh... that being said...\")\n",
        "time.sleep(3)\n",
        "import time\n",
        "print(\"Sans: you, uh, really like swinging that thing around, huh?\")\n",
        "time.sleep(3)\n",
        "import time\n",
        "print(\"Sans: ...\")\n",
        "time.sleep(3)\n",
        "import time\n",
        "print(\"Sans: listen.\")\n",
        "time.sleep(3)\n",
        "import time\n",
        "print(\"Sans: i know you didn't answer me before, but... \")\n",
        "time.sleep(3)\n",
        "import time\n",
        "print(\"somewhere in there. i can feel it.\")\n",
        "print(\"there's a glimmer of a good person inside of you.\")"
      ]
    },
    {
      "cell_type": "code",
      "execution_count": null,
      "metadata": {
        "id": "arI-wKingTmZ"
      },
      "outputs": [],
      "source": [
        "print(\"Pick a color: Pink, Purple, Blue or Red?\")\n"
      ]
    },
    {
      "cell_type": "code",
      "execution_count": null,
      "metadata": {
        "id": "CoykQ08iypz_"
      },
      "outputs": [],
      "source": []
    }
  ],
  "metadata": {
    "colab": {
      "provenance": [],
      "include_colab_link": true
    },
    "kernelspec": {
      "display_name": "Python 3",
      "name": "python3"
    },
    "language_info": {
      "name": "python"
    }
  },
  "nbformat": 4,
  "nbformat_minor": 0
}